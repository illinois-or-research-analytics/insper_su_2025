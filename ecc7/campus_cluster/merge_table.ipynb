{
 "cells": [
  {
   "cell_type": "code",
   "execution_count": 6,
   "id": "fb6071f2",
   "metadata": {},
   "outputs": [
    {
     "name": "stdout",
     "output_type": "stream",
     "text": [
      "Merge completed: experiment_metrics_merged.csv\n"
     ]
    }
   ],
   "source": [
    "import pandas as pd\n",
    "import os\n",
    "\n",
    "csv_dir = \"data/experiment_metrics/\"\n",
    "\n",
    "csv_files = [\n",
    "    \"experiment_metrics_ss_ra_10.csv\",\n",
    "    \"experiment_metrics_ss_ra_20.csv\",\n",
    "    \"experiment_metrics_ss_ra_continuous.csv\",\n",
    "    \"experiment_metrics_ss_sa_10.csv\",\n",
    "    \"experiment_metrics_ss_sa_20.csv\",\n",
    "    \"experiment_metrics_ss_sa_continuous.csv\",\n",
    "]\n",
    "\n",
    "dfs = []\n",
    "for file in csv_files:\n",
    "    df = pd.read_csv(os.path.join(csv_dir, file))\n",
    "    dfs.append(df)\n",
    "\n",
    "\n",
    "merged_df = pd.concat(dfs, ignore_index=True)\n",
    "\n",
    "merged_df.to_csv(os.path.join(csv_dir, \"experiment_metrics_merged.csv\"), index=False)\n",
    "\n",
    "print(\"Merge completed: experiment_metrics_merged.csv\")\n"
   ]
  }
 ],
 "metadata": {
  "kernelspec": {
   "display_name": "venv",
   "language": "python",
   "name": "python3"
  },
  "language_info": {
   "codemirror_mode": {
    "name": "ipython",
    "version": 3
   },
   "file_extension": ".py",
   "mimetype": "text/x-python",
   "name": "python",
   "nbconvert_exporter": "python",
   "pygments_lexer": "ipython3",
   "version": "3.13.4"
  }
 },
 "nbformat": 4,
 "nbformat_minor": 5
}
