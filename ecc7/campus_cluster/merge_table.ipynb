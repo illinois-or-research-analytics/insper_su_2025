{
 "cells": [
  {
   "cell_type": "code",
   "execution_count": 6,
   "id": "fb6071f2",
   "metadata": {},
   "outputs": [
    {
     "name": "stdout",
     "output_type": "stream",
     "text": [
      "Merge completed: experiment_metrics_merged.csv\n"
     ]
    }
   ],
   "source": [
    "import pandas as pd\n",
    "import os\n",
    "\n",
    "\n",
    "csv_files = [\n",
    "    \"data/output_aux/pubmed_standard_sj/6_18_ecc7_fmf_standard_no_ss_ra_pubmed/experiment_metrics.csv\",\n",
    "    \"data/output_aux/pubmed_standard_sj/6_18_ecc7_fmf_standard_ss_ra_pubmed/experiment_metrics.csv\",\n",
    "    \"data/output_aux/pubmed_standard_sj/6_19_ecc7_fmf_standard_no_ss_sa_pubmed/experiment_metrics.csv\",\n",
    "    \"data/output_aux/pubmed_standard_sj/6_19_ecc7_fmf_standard_ss_sa_pubmed/experiment_metrics.csv\",\n",
    "    \"data/experiment_metrics/experiment_metrics_cpp_er.csv\"\n",
    "\n",
    "\n",
    "]\n",
    "\n",
    "dfs = []\n",
    "for file in csv_files:\n",
    "    df = pd.read_csv(file)\n",
    "    dfs.append(df)\n",
    "\n",
    "\n",
    "merged_df = pd.concat(dfs, ignore_index=True)\n",
    "\n",
    "merged_df.to_csv(\"cpp_metrics.csv\")\n",
    "\n",
    "print(\"Merge completed: experiment_metrics_merged.csv\")\n"
   ]
  },
  {
   "cell_type": "code",
   "execution_count": null,
   "id": "b28cd964",
   "metadata": {},
   "outputs": [],
   "source": []
  }
 ],
 "metadata": {
  "kernelspec": {
   "display_name": "venv",
   "language": "python",
   "name": "python3"
  },
  "language_info": {
   "codemirror_mode": {
    "name": "ipython",
    "version": 3
   },
   "file_extension": ".py",
   "mimetype": "text/x-python",
   "name": "python",
   "nbconvert_exporter": "python",
   "pygments_lexer": "ipython3",
   "version": "3.13.4"
  }
 },
 "nbformat": 4,
 "nbformat_minor": 5
}
