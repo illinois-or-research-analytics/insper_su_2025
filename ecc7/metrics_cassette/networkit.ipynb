{
 "cells": [
  {
   "cell_type": "code",
   "execution_count": 20,
   "id": "391ffaf2",
   "metadata": {},
   "outputs": [],
   "source": [
    "import networkit as nk\n",
    "import networkit.clique as nkc\n",
    "import pandas as pd"
   ]
  },
  {
   "cell_type": "code",
   "execution_count": 4,
   "id": "65b8fc1e",
   "metadata": {},
   "outputs": [
    {
     "name": "stdout",
     "output_type": "stream",
     "text": [
      "number of unique ids: 1193102\n",
      "min source: 35, min target: 35\n"
     ]
    }
   ],
   "source": [
    "graph = pd.read_csv(\"data/6_5_25_min_standard_no_ss_ra_edgelist.csv\")\n",
    "# sample = graph[:1000]\n",
    "# sample.to_csv(\"data/edgelist.csv\", index=False)\n",
    "print(f\"number of unique ids: {len(pd.unique(graph[[\"#source\",\"target\"]].values.ravel()))}\")\n",
    "min_source = graph[\"#source\"].min()\n",
    "min_target = graph[\"target\"].min()\n",
    "print(f\"min source: {min_source}, min target: {min_target}\")"
   ]
  },
  {
   "cell_type": "code",
   "execution_count": 5,
   "id": "f2210684",
   "metadata": {},
   "outputs": [
    {
     "name": "stdout",
     "output_type": "stream",
     "text": [
      "1193102 14651596\n"
     ]
    }
   ],
   "source": [
    "reader = nk.graphio.EdgeListReader(separator=\",\", firstNode=35, commentPrefix=\"#\", continuous=False, directed=False)\n",
    "G = reader.read(\"data/6_5_25_min_standard_no_ss_ra_edgelist.csv\")\n",
    "print(G.numberOfNodes(), G.numberOfEdges())"
   ]
  },
  {
   "cell_type": "code",
   "execution_count": 6,
   "id": "69d83594",
   "metadata": {},
   "outputs": [
    {
     "data": {
      "text/plain": [
       "1193102"
      ]
     },
     "execution_count": 6,
     "metadata": {},
     "output_type": "execute_result"
    }
   ],
   "source": [
    "# Extract largest connect component\n",
    "newGraph = nk.components.ConnectedComponents.extractLargestConnectedComponent(G, True)\n",
    "newGraph.numberOfNodes()"
   ]
  },
  {
   "cell_type": "code",
   "execution_count": 7,
   "id": "2120b655",
   "metadata": {},
   "outputs": [
    {
     "name": "stdout",
     "output_type": "stream",
     "text": [
      "Diameter: (7, 0)\n"
     ]
    }
   ],
   "source": [
    "newGraph = nk.components.ConnectedComponents.extractLargestConnectedComponent(G, True)\n",
    "newGraph.numberOfNodes()\n",
    "diam = nk.distance.Diameter(newGraph,algo=nk.distance.DiameterAlgo.EXACT)\n",
    "diam.run()\n",
    "print(f\"Diameter: {diam.getDiameter()}\")"
   ]
  },
  {
   "cell_type": "code",
   "execution_count": 8,
   "id": "776ccc19",
   "metadata": {},
   "outputs": [
    {
     "name": "stdout",
     "output_type": "stream",
     "text": [
      "Diameter: (7, 0)\n"
     ]
    }
   ],
   "source": [
    "elr = nk.graphio.EdgeListReader(separator=\",\", firstNode=0, commentPrefix=\"#\", continuous=False, directed=False)\n",
    "G = elr.read(\"data/6_5_25_min_standard_no_ss_ra_edgelist.csv\")\n",
    "diam = nk.distance.Diameter(G, algo=1, error=0)\n",
    "diam.run()\n",
    "print(f\"Diameter: {diam.getDiameter()}\")"
   ]
  },
  {
   "cell_type": "code",
   "execution_count": 9,
   "id": "8251385b",
   "metadata": {},
   "outputs": [
    {
     "name": "stdout",
     "output_type": "stream",
     "text": [
      "GCC: 0.00013617092686306153\n",
      "ALCC: 0.20046455812561256\n"
     ]
    }
   ],
   "source": [
    "cluster_coeff = nk.globals.ClusteringCoefficient()\n",
    "print(f\"GCC: {cluster_coeff.exactGlobal(G)}\")\n",
    "print(f\"ALCC: {cluster_coeff.sequentialAvgLocal(G)}\")"
   ]
  },
  {
   "cell_type": "code",
   "execution_count": null,
   "id": "8b5a371c",
   "metadata": {},
   "outputs": [
    {
     "ename": "RuntimeError",
     "evalue": "Core Decomposition implementation does not support graphs with self-loops. Call Graph.removeSelfLoops() first.",
     "output_type": "error",
     "traceback": [
      "\u001b[31m---------------------------------------------------------------------------\u001b[39m",
      "\u001b[31mRuntimeError\u001b[39m                              Traceback (most recent call last)",
      "\u001b[36mCell\u001b[39m\u001b[36m \u001b[39m\u001b[32mIn[24]\u001b[39m\u001b[32m, line 2\u001b[39m\n\u001b[32m      1\u001b[39m triangle_counter = nkc.MaximalCliques(G)\n\u001b[32m----> \u001b[39m\u001b[32m2\u001b[39m \u001b[43mtriangle_counter\u001b[49m\u001b[43m.\u001b[49m\u001b[43mrun\u001b[49m\u001b[43m(\u001b[49m\u001b[43m)\u001b[49m\n\u001b[32m      3\u001b[39m triangle_counter.getCliques()\n\u001b[32m      4\u001b[39m \u001b[38;5;28mprint\u001b[39m(triangle_counter.getCliques())\n",
      "\u001b[36mFile \u001b[39m\u001b[32m~/Documents/Projects/UIUC/insper_su_2025/venv/lib/python3.13/site-packages/networkit/base.pyx:49\u001b[39m, in \u001b[36mnetworkit.base.Algorithm.run\u001b[39m\u001b[34m()\u001b[39m\n",
      "\u001b[31mRuntimeError\u001b[39m: Core Decomposition implementation does not support graphs with self-loops. Call Graph.removeSelfLoops() first."
     ]
    }
   ],
   "source": [
    "finder = nk.clique.MaximalCliques(G)\n",
    "finder.run()\n",
    "cliques = finder.getCliques()\n",
    "\n",
    "# Filter for cliques of size 3 (triangles)\n",
    "triangles = [c for c in cliques if len(c) == 3]\n",
    "print(f\"Number of triangles (via cliques): {len(triangles)}\")\n"
   ]
  },
  {
   "cell_type": "code",
   "execution_count": 18,
   "id": "98d3c8b5",
   "metadata": {},
   "outputs": [
    {
     "name": "stdout",
     "output_type": "stream",
     "text": [
      "['MaximalCliques', '__builtins__', '__doc__', '__file__', '__loader__', '__name__', '__package__', '__reduce_cython__', '__setstate_cython__', '__spec__', '__test__', 'stdstring']\n"
     ]
    }
   ],
   "source": [
    "print(dir(nk.clique))\n"
   ]
  }
 ],
 "metadata": {
  "kernelspec": {
   "display_name": "venv",
   "language": "python",
   "name": "python3"
  },
  "language_info": {
   "codemirror_mode": {
    "name": "ipython",
    "version": 3
   },
   "file_extension": ".py",
   "mimetype": "text/x-python",
   "name": "python",
   "nbconvert_exporter": "python",
   "pygments_lexer": "ipython3",
   "version": "3.13.4"
  }
 },
 "nbformat": 4,
 "nbformat_minor": 5
}
