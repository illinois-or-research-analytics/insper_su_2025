{
 "cells": [
  {
   "cell_type": "code",
   "execution_count": null,
   "id": "960a015e",
   "metadata": {},
   "outputs": [
    {
     "name": "stdout",
     "output_type": "stream",
     "text": [
      "✅ Done! Final file saved to: ../outputs/pooled_5k_all.csv\n"
     ]
    }
   ],
   "source": [
    "import pandas as pd\n",
    "import os\n",
    "\n",
    "folder_path = \"../outputs\" \n",
    "sample_files = [f\"run{i}_all_10000.csv\" for i in range(1, 6)] \n",
    "sample_paths = [os.path.join(folder_path, f) for f in sample_files]\n",
    "\n",
    "\n",
    "dfs = [pd.read_csv(path) for path in sample_paths]\n",
    "combined_df = pd.concat(dfs, ignore_index=True)\n",
    "\n",
    "# Clip reference counts to between 10 and 250\n",
    "filtered_df = combined_df[(combined_df[\"out_degree\"] >= 10) & (combined_df[\"out_degree\"] <= 250)]\n",
    "\n",
    "output_path = os.path.join(folder_path, \"pooled_5k_all.csv\")\n",
    "filtered_df.to_csv(output_path, index=False)\n",
    "\n",
    "print(f\"Done! Final file saved to: {output_path}\")\n"
   ]
  }
 ],
 "metadata": {
  "kernelspec": {
   "display_name": "venv",
   "language": "python",
   "name": "python3"
  },
  "language_info": {
   "codemirror_mode": {
    "name": "ipython",
    "version": 3
   },
   "file_extension": ".py",
   "mimetype": "text/x-python",
   "name": "python",
   "nbconvert_exporter": "python",
   "pygments_lexer": "ipython3",
   "version": "3.13.4"
  }
 },
 "nbformat": 4,
 "nbformat_minor": 5
}
